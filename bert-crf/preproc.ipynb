{
 "metadata": {
  "language_info": {
   "codemirror_mode": {
    "name": "ipython",
    "version": 3
   },
   "file_extension": ".py",
   "mimetype": "text/x-python",
   "name": "python",
   "nbconvert_exporter": "python",
   "pygments_lexer": "ipython3",
   "version": "3.7.9-final"
  },
  "orig_nbformat": 2,
  "kernelspec": {
   "name": "python38564bitdmcondaf1b27da96c0b455a9810335c0be0c477",
   "display_name": "Python 3.8.5 64-bit ('dm': conda)",
   "language": "python"
  }
 },
 "nbformat": 4,
 "nbformat_minor": 2,
 "cells": [
  {
   "source": [
    "## Generate Data for transformers-ner"
   ],
   "cell_type": "markdown",
   "metadata": {}
  },
  {
   "cell_type": "code",
   "execution_count": 2,
   "metadata": {},
   "outputs": [],
   "source": [
    "import itertools\n",
    "\n",
    "with open('../data/train_2.data') as f:\n",
    "    lines = f.readlines()\n",
    "    articles = [list(y) for x, y in itertools.groupby(lines, lambda z: z == '\\n') if not x]\n",
    "    \n",
    "with open('../data/t-ner/train.txt', 'w') as f:\n",
    "    for article in articles:\n",
    "        for i in range(0, len(article), 510):\n",
    "            f.write(''.join(article[i:i+510]))\n",
    "            f.write('\\n')"
   ]
  },
  {
   "cell_type": "code",
   "execution_count": 3,
   "metadata": {},
   "outputs": [],
   "source": [
    "with open('../data/sample.data') as f:\n",
    "    lines = f.readlines()\n",
    "    articles = [list(y) for x, y in itertools.groupby(lines, lambda z: z == '\\n') if not x]\n",
    "    \n",
    "with open('../data/t-ner/dev.txt', 'w') as f:\n",
    "    for article in articles:\n",
    "        for i in range(0, len(article), 510):\n",
    "            f.write(''.join(article[i:i+510]))\n",
    "            f.write('\\n')"
   ]
  },
  {
   "cell_type": "code",
   "execution_count": 4,
   "metadata": {},
   "outputs": [],
   "source": [
    "def strQ2B(s):\n",
    "    \"\"\"把字串全形轉半形\"\"\"\n",
    "    rstring = \"\"\n",
    "    for uchar in s:\n",
    "        u_code = ord(uchar)\n",
    "        if u_code == 12288:  # 全形空格直接轉換\n",
    "            u_code = 32\n",
    "        elif 65281 <= u_code <= 65374:  # 全形字元（除空格）根據關係轉化\n",
    "            u_code -= 65248\n",
    "        rstring += chr(u_code)\n",
    "        \n",
    "    return rstring\n",
    "\n",
    "def get_testing_data(test_path: str):\n",
    "    data = []\n",
    "    with open(test_path) as f:\n",
    "        articles = strQ2B(f.read()).split('\\n\\n--------------------\\n\\n')[:-1]\n",
    "        for article in articles:\n",
    "            lines = article.split('\\n')\n",
    "\n",
    "            article_id = lines[0][12:]\n",
    "            tokens = list(lines[1])\n",
    "\n",
    "            data.append(tokens)\n",
    "\n",
    "    return data"
   ]
  },
  {
   "cell_type": "code",
   "execution_count": 5,
   "metadata": {},
   "outputs": [],
   "source": [
    "articles = get_testing_data('../data/test_5.txt')\n",
    "articles = [strQ2B(article) for article in articles]\n",
    "with open('../data/t-ner/test.txt', 'w', encoding='utf-8') as f:\n",
    "    for article in articles:\n",
    "        for i in range(0, len(article), 510):\n",
    "            f.write('\\n'.join(article[i:i+510]))\n",
    "            f.write('\\n\\n')"
   ]
  }
 ]
}