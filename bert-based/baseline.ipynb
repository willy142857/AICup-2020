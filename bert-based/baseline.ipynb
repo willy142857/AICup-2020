{
 "cells": [
  {
   "cell_type": "code",
   "execution_count": 1,
   "metadata": {},
   "outputs": [],
   "source": [
    "import os\n",
    "import sys\n",
    "import numpy as np\n",
    "import pandas as pd\n",
    "from tqdm import tqdm"
   ]
  },
  {
   "cell_type": "markdown",
   "metadata": {},
   "source": [
    "## Preprocessing\n",
    "* Change input data (ex. train.txt) into CRF model input format (ex. train.data)\n",
    "    * CRF model input format (ex. train.data):\n",
    "        ```\n",
    "        肝 O\n",
    "        功 O\n",
    "        能 O\n",
    "        6 B-med_exam\n",
    "        8 I-med_exam\n",
    "        ```"
   ]
  },
  {
   "cell_type": "code",
   "execution_count": 2,
   "metadata": {},
   "outputs": [],
   "source": [
    "%%capture\n",
    "from preproc import loadInputFile, CRFFormatData, Dataset\n",
    "\n",
    "file_path = 'data/train_2.txt'\n",
    "\n",
    "trainingset, position, mentions=loadInputFile(file_path)\n",
    "\n",
    "data_path = 'data/train_2.data'\n",
    "CRFFormatData(trainingset, position, data_path)"
   ]
  },
  {
   "cell_type": "markdown",
   "metadata": {},
   "source": [
    "## NER model\n",
    "### CRF (Conditional Random Field model)\n",
    "* Using `sklearn-crfsuite` API\n",
    "\n",
    "    (you may try `CRF++`, `python-crfsuite`, `pytorch-crfsuite`(neural network version))"
   ]
  },
  {
   "cell_type": "code",
   "execution_count": null,
   "metadata": {},
   "outputs": [],
   "source": [
    "import sklearn_crfsuite\n",
    "from sklearn_crfsuite import scorers\n",
    "from sklearn_crfsuite import metrics\n",
    "from sklearn_crfsuite.metrics import flat_classification_report"
   ]
  },
  {
   "cell_type": "code",
   "execution_count": null,
   "metadata": {},
   "outputs": [],
   "source": [
    "def CRF(x_train, y_train, x_test, y_test):\n",
    "    crf = sklearn_crfsuite.CRF(\n",
    "        algorithm='lbfgs',\n",
    "        c1=0.1,\n",
    "        c2=0.1,\n",
    "        max_iterations=100,\n",
    "        all_possible_transitions=True\n",
    "    )\n",
    "    crf.fit(x_train, y_train)\n",
    "    # print(crf)\n",
    "    y_pred = crf.predict(x_test)\n",
    "    y_pred_mar = crf.predict_marginals(x_test)\n",
    "\n",
    "    # print(y_pred_mar)\n",
    "\n",
    "    labels = list(crf.classes_)\n",
    "    labels.remove('O')\n",
    "    f1score = metrics.flat_f1_score(y_test, y_pred, average='weighted', labels=labels)\n",
    "    sorted_labels = sorted(labels,key=lambda name: (name[1:], name[0])) # group B and I results\n",
    "    print(flat_classification_report(y_test, y_pred, labels=sorted_labels, digits=3))\n",
    "    return y_pred, y_pred_mar, f1score"
   ]
  },
  {
   "cell_type": "markdown",
   "metadata": {},
   "source": [
    "## Model Input: \n",
    "* input features:\n",
    "    * word vector: pretrained traditional chinese word embedding by Word2Vec-CBOW\n",
    "    \n",
    "    (you may try add some other features, ex. pos-tag, word_length, word_position, ...) "
   ]
  },
  {
   "cell_type": "code",
   "execution_count": null,
   "metadata": {},
   "outputs": [],
   "source": [
    "import numpy as np"
   ]
  },
  {
   "cell_type": "code",
   "execution_count": null,
   "metadata": {},
   "outputs": [],
   "source": [
    "# load pretrained word vectors\n",
    "# get a dict of tokens (key) and their pretrained word vectors (value)\n",
    "# pretrained word2vec CBOW word vector: https://fgc.stpi.narl.org.tw/activity/videoDetail/4b1141305ddf5522015de5479f4701b1\n",
    "dim = 0\n",
    "word_vecs= {}\n",
    "# open pretrained word vector file\n",
    "with open('cna.cbow.cwe_p.tar_g.512d.0.txt') as f:\n",
    "    for line in f:\n",
    "        tokens = line.strip().split()\n",
    "\n",
    "        # there 2 integers in the first line: vocabulary_size, word_vector_dim\n",
    "        if len(tokens) == 2:\n",
    "            dim = int(tokens[1])\n",
    "            continue\n",
    "    \n",
    "        word = tokens[0] \n",
    "        vec = np.array([ float(t) for t in tokens[1:] ])\n",
    "        word_vecs[word] = vec"
   ]
  },
  {
   "cell_type": "code",
   "execution_count": null,
   "metadata": {
    "scrolled": true
   },
   "outputs": [],
   "source": [
    "print('vocabulary_size: ',len(word_vecs),' word_vector_dim: ',vec.shape)"
   ]
  },
  {
   "cell_type": "markdown",
   "metadata": {},
   "source": [
    "Here we split data into training dataset and testing dataset,\n",
    "however, we'll provide `development data` and `test data` which is real testing dataset.\n",
    "\n",
    "You should upload prediction on `development data` and `test data` to system, not this splitted testing dataset."
   ]
  },
  {
   "cell_type": "code",
   "execution_count": null,
   "metadata": {},
   "outputs": [],
   "source": [
    "# look up word vectors\n",
    "# turn each word into its pretrained word vector\n",
    "# return a list of word vectors corresponding to each token in train.data\n",
    "def Word2Vector(data_list, embedding_dict):\n",
    "    embedding_list = list()\n",
    "\n",
    "    # No Match Word (unknown word) Vector in Embedding\n",
    "    unk_vector=np.random.rand(*(list(embedding_dict.values())[0].shape))\n",
    "\n",
    "    for idx_list in range(len(data_list)):\n",
    "        embedding_list_tmp = list()\n",
    "        for idx_tuple in range(len(data_list[idx_list])):\n",
    "            key = data_list[idx_list][idx_tuple][0] # token\n",
    "\n",
    "            if key in embedding_dict:\n",
    "                value = embedding_dict[key]\n",
    "            else:\n",
    "                value = unk_vector\n",
    "            embedding_list_tmp.append(value)\n",
    "        embedding_list.append(embedding_list_tmp)\n",
    "    return embedding_list"
   ]
  },
  {
   "cell_type": "code",
   "execution_count": null,
   "metadata": {},
   "outputs": [],
   "source": [
    "# input features: pretrained word vectors of each token\n",
    "# return a list of feature dicts, each feature dict corresponding to each token\n",
    "def Feature(embed_list):\n",
    "    feature_list = list()\n",
    "    for idx_list in range(len(embed_list)):\n",
    "        feature_list_tmp = list()\n",
    "        for idx_tuple in range(len(embed_list[idx_list])):\n",
    "            feature_dict = dict()\n",
    "            for idx_vec in range(len(embed_list[idx_list][idx_tuple])):\n",
    "                feature_dict['dim_' + str(idx_vec+1)] = embed_list[idx_list][idx_tuple][idx_vec]\n",
    "            feature_list_tmp.append(feature_dict)\n",
    "        feature_list.append(feature_list_tmp)\n",
    "    return feature_list"
   ]
  },
  {
   "cell_type": "code",
   "execution_count": null,
   "metadata": {},
   "outputs": [],
   "source": [
    "# get the labels of each tokens in train.data\n",
    "# return a list of lists of labels\n",
    "def Preprocess(data_list):\n",
    "    label_list = list()\n",
    "    for idx_list in range(len(data_list)):\n",
    "        label_list_tmp = list()\n",
    "        for idx_tuple in range(len(data_list[idx_list])):\n",
    "            label_list_tmp.append(data_list[idx_list][idx_tuple][1])\n",
    "        label_list.append(label_list_tmp)\n",
    "    return label_list"
   ]
  },
  {
   "cell_type": "markdown",
   "metadata": {},
   "source": [
    "## Training"
   ]
  },
  {
   "cell_type": "code",
   "execution_count": 3,
   "metadata": {},
   "outputs": [],
   "source": [
    "from sklearn.model_selection import train_test_split\n",
    "\n",
    "data_list, article_id_list = Dataset(data_path)\n",
    "traindata_list, testdata_list, traindata_article_id_list, testdata_article_id_list = train_test_split(data_list, article_id_list, test_size=0.33)"
   ]
  },
  {
   "cell_type": "code",
   "execution_count": null,
   "metadata": {},
   "outputs": [],
   "source": [
    "# Load Word Embedding\n",
    "trainembed_list = Word2Vector(traindata_list, word_vecs)\n",
    "testembed_list = Word2Vector(testdata_list, word_vecs)\n",
    "\n",
    "# CRF - Train Data (Augmentation Data)\n",
    "x_train = Feature(trainembed_list)\n",
    "y_train = Preprocess(traindata_list)\n",
    "\n",
    "# CRF - Test Data (Golden Standard)\n",
    "x_test = Feature(testembed_list)\n",
    "y_test = Preprocess(testdata_list)"
   ]
  },
  {
   "cell_type": "code",
   "execution_count": null,
   "metadata": {},
   "outputs": [],
   "source": [
    "y_pred, y_pred_mar, f1score = CRF(x_train, y_train, x_test, y_test)"
   ]
  },
  {
   "cell_type": "code",
   "execution_count": null,
   "metadata": {
    "scrolled": true
   },
   "outputs": [],
   "source": [
    "f1score"
   ]
  },
  {
   "cell_type": "markdown",
   "metadata": {},
   "source": [
    "## Output data\n",
    "* Change model output into `output.tsv` \n",
    "* Only accept this output format uploading to competition system"
   ]
  },
  {
   "cell_type": "code",
   "execution_count": null,
   "metadata": {},
   "outputs": [],
   "source": [
    "output=\"article_id\\tstart_position\\tend_position\\tentity_text\\tentity_type\\n\"\n",
    "for test_id in range(len(y_pred)):\n",
    "    pos=0\n",
    "    start_pos=None\n",
    "    end_pos=None\n",
    "    entity_text=None\n",
    "    entity_type=None\n",
    "    for pred_id in range(len(y_pred[test_id])):\n",
    "        if y_pred[test_id][pred_id][0]=='B':\n",
    "            start_pos=pos\n",
    "            entity_type=y_pred[test_id][pred_id][2:]\n",
    "        elif start_pos is not None and y_pred[test_id][pred_id][0]=='I' and y_pred[test_id][pred_id+1][0]=='O':\n",
    "            end_pos=pos\n",
    "            entity_text=''.join([testdata_list[test_id][position][0] for position in range(start_pos,end_pos+1)])\n",
    "            line=str(testdata_article_id_list[test_id])+'\\t'+str(start_pos)+'\\t'+str(end_pos+1)+'\\t'+entity_text+'\\t'+entity_type\n",
    "            output+=line+'\\n'\n",
    "        pos+=1     "
   ]
  },
  {
   "cell_type": "code",
   "execution_count": null,
   "metadata": {},
   "outputs": [],
   "source": [
    "output_path='output.tsv'\n",
    "with open(output_path,'w',encoding='utf-8') as f:\n",
    "    f.write(output)"
   ]
  },
  {
   "cell_type": "code",
   "execution_count": null,
   "metadata": {
    "scrolled": true
   },
   "outputs": [],
   "source": [
    "print(output)"
   ]
  },
  {
   "cell_type": "markdown",
   "metadata": {},
   "source": [
    "## Note\n",
    "* You may try `python-crfsuite` to train an neural network for NER tagging optimized by gradient descent back propagation\n",
    "    * [Documentation](https://github.com/scrapinghub/python-crfsuite)\n",
    "* You may try `CRF++` tool for NER tagging by CRF model\n",
    "    * [Documentation](http://taku910.github.io/crfpp/)\n",
    "    * Need design feature template\n",
    "    * Can only computed in CPU\n",
    "* You may try other traditional chinese word embedding (ex. fasttext, bert, ...) for input features\n",
    "* You may try add other features for NER model, ex. POS-tag, word_length, word_position, ...\n",
    "* You should upload the prediction output on `development data` or `test data` provided later to the competition system. Note don't upload prediction output on the splitted testing dataset like this baseline example."
   ]
  },
  {
   "cell_type": "markdown",
   "metadata": {},
   "source": [
    "-----------------------------------------------------"
   ]
  }
 ],
 "metadata": {
  "file_extension": ".py",
  "kernelspec": {
   "name": "python38564bitdmcondaf1b27da96c0b455a9810335c0be0c477",
   "display_name": "Python 3.8.5 64-bit ('dm': conda)"
  },
  "language_info": {
   "codemirror_mode": {
    "name": "ipython",
    "version": 3
   },
   "file_extension": ".py",
   "mimetype": "text/x-python",
   "name": "python",
   "nbconvert_exporter": "python",
   "pygments_lexer": "ipython3",
   "version": "3.7.9-final"
  },
  "mimetype": "text/x-python",
  "name": "python",
  "npconvert_exporter": "python",
  "pygments_lexer": "ipython3",
  "version": 3
 },
 "nbformat": 4,
 "nbformat_minor": 2
}